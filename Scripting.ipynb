{
 "cells": [
  {
   "cell_type": "markdown",
   "id": "ac2a0759",
   "metadata": {},
   "source": [
    "# Looping\n",
    "### While\n",
    "\n",
    "The `while` statement executes a loop.\n",
    "\n",
    "```python\n",
    "while num_bills * bill_thickness < sears_height:\n",
    "    print(day, num_bills, num_bills * bill_thickness)\n",
    "    day = day + 1\n",
    "    num_bills = num_bills * 2\n",
    "\n",
    "print('Number of days', day)\n",
    "```\n",
    "\n",
    "The statements indented below the `while` will execute as long as the expression after the `while` is `true`.\n"
   ]
  },
  {
   "cell_type": "markdown",
   "id": "215ac960",
   "metadata": {},
   "source": [
    "## For \n",
    "The `for` statement executes a loop.\n",
    "\n",
    "```python\n",
    "for i in range(10):\n",
    "    print(i)\n",
    "    \n",
    ">>0\n",
    ">>1\n",
    ">>2\n",
    ">>3\n",
    ">>4\n",
    ". \n",
    ".\n",
    ".\n",
    ">>9\n",
    "```\n"
   ]
  },
  {
   "cell_type": "code",
   "execution_count": 5,
   "id": "a7c35b60",
   "metadata": {},
   "outputs": [
    {
     "name": "stdout",
     "output_type": "stream",
     "text": [
      "piotr\n",
      "pawel\n",
      "ania\n",
      "zosia\n"
     ]
    }
   ],
   "source": [
    "ls = ['piotr','pawel','ania','zosia']\n",
    "for name in ls:\n",
    "    print(name)"
   ]
  },
  {
   "cell_type": "markdown",
   "id": "1c249af0",
   "metadata": {},
   "source": [
    "#  Scripting\n",
    "\n",
    "In this part we look more closely at the practice of writing Python\n",
    "scripts.\n",
    "\n",
    "### What is a Script?\n",
    "\n",
    "A *script* is a program that runs a series of statements and stops.\n",
    "\n",
    "```python\n",
    "# program.py\n",
    "\n",
    "statement1\n",
    "statement2\n",
    "statement3\n",
    "...\n",
    "```\n",
    "\n",
    "We have mostly been writing scripts to this point.\n"
   ]
  },
  {
   "cell_type": "markdown",
   "id": "3f8c3c85",
   "metadata": {},
   "source": [
    "### A Problem\n",
    "\n",
    "If you write a useful script, it will grow in features and\n",
    "functionality.  You may want to apply it to other related problems.\n",
    "Over time, it might become a critical application.  And if you don't\n",
    "take care, it might turn into a huge tangled mess.  So, let's get\n",
    "organized.\n"
   ]
  },
  {
   "cell_type": "markdown",
   "id": "60d2656b",
   "metadata": {},
   "source": [
    "### Defining Things\n",
    "\n",
    "Names must always be defined before they get used later.\n",
    "```python\n",
    "def square(x):\n",
    "    return x*x\n",
    "\n",
    "a = 42\n",
    "b = a + 2     # Requires that `a` is defined\n",
    "\n",
    "z = square(b) # Requires `square` and `b` to be defined\n",
    "```\n",
    "\n",
    "**The order is important.**\n",
    "You almost always put the definitions of variables and functions near the top.\n"
   ]
  },
  {
   "cell_type": "markdown",
   "id": "2812edb6",
   "metadata": {},
   "source": [
    "### Defining Functions\n",
    "\n",
    "It is a good idea to put all of the code related to a single *task* all in one place.\n",
    "Use a function.\n",
    "\n",
    "```python\n",
    "def read_prices(filename):\n",
    "    prices = {}\n",
    "    with open(filename) as f:\n",
    "        f_csv = csv.reader(f)\n",
    "        for row in f_csv:\n",
    "            prices[row[0]] = float(row[1])\n",
    "    return prices\n",
    "```\n",
    "\n",
    "A function also simplifies repeated operations.\n",
    "\n",
    "```python\n",
    "oldprices = read_prices('oldprices.csv')\n",
    "newprices = read_prices('newprices.csv')\n",
    "```\n"
   ]
  },
  {
   "cell_type": "markdown",
   "id": "b4fed1c6",
   "metadata": {},
   "source": [
    "### What is a Function?\n",
    "\n",
    "A function is a named sequence of statements.\n",
    "\n",
    "```python\n",
    "def funcname(args):\n",
    "  statement\n",
    "  statement\n",
    "  ...\n",
    "  return result\n",
    "```\n",
    "\n",
    "*Any* Python statement can be used inside.\n",
    "\n",
    "```python\n",
    "def foo():\n",
    "    import math\n",
    "    print(math.sqrt(2))\n",
    "    help(math)\n",
    "```\n",
    "\n",
    "There are no *special* statements in Python (which makes it easy to remember).\n"
   ]
  },
  {
   "cell_type": "markdown",
   "id": "ae0b55f3",
   "metadata": {},
   "source": [
    "### Function Definition\n",
    "\n",
    "Functions can be *defined* in any order.\n",
    "\n",
    "```python\n",
    "def foo(x):\n",
    "    bar(x)\n",
    "\n",
    "def bar(x):\n",
    "    statements\n",
    "\n",
    "# OR\n",
    "def bar(x):\n",
    "    statements\n",
    "\n",
    "def foo(x):\n",
    "    bar(x)\n",
    "```\n",
    "\n",
    "Functions must only be defined prior to actually being *used* (or called) during program execution.\n",
    "\n",
    "```python\n",
    "foo(3)        # foo must be defined already\n",
    "```\n",
    "\n",
    "Stylistically, it is probably more common to see functions defined in\n",
    "a *bottom-up* fashion.\n"
   ]
  },
  {
   "cell_type": "markdown",
   "id": "afeccfe5",
   "metadata": {},
   "source": [
    "### Bottom-up Style\n",
    "\n",
    "Functions are treated as building blocks.\n",
    "The smaller/simpler blocks go first.\n",
    "\n",
    "```python\n",
    "# myprogram.py\n",
    "def foo(x):\n",
    "    ...\n",
    "\n",
    "def bar(x):\n",
    "    ...\n",
    "    foo(x)          # Defined above\n",
    "    ...\n",
    "\n",
    "def spam(x):\n",
    "    ...\n",
    "    bar(x)          # Defined above\n",
    "    ...\n",
    "\n",
    "spam(42)            # Code that uses the functions appears at the end\n",
    "```\n",
    "\n",
    "Later functions build upon earlier functions.  Again, this is only\n",
    "a point of style.  The only thing that matters in the above program\n",
    "is that the call to `spam(42)` go last.\n"
   ]
  },
  {
   "cell_type": "markdown",
   "id": "8164aecd",
   "metadata": {},
   "source": [
    "### Function Design\n",
    "\n",
    "Ideally, functions should be a *black box*.\n",
    "They should only operate on passed inputs and avoid global variables\n",
    "and mysterious side-effects.  Your main goals: *Modularity* and *Predictability*.\n"
   ]
  },
  {
   "cell_type": "markdown",
   "id": "78bc3764",
   "metadata": {},
   "source": [
    "### Doc Strings\n",
    "\n",
    "It's good practice to include documentation in the form of a\n",
    "doc-string.  Doc-strings are strings written immediately after the\n",
    "name of the function. They feed `help()`, IDEs and other tools."
   ]
  },
  {
   "cell_type": "code",
   "execution_count": 1,
   "id": "ab67150b",
   "metadata": {},
   "outputs": [],
   "source": [
    "def read_prices(filename):\n",
    "    '''\n",
    "    Read prices from a CSV file of name,price data\n",
    "    '''\n",
    "    prices = {}\n",
    "    with open(filename) as f:\n",
    "        f_csv = csv.reader(f)\n",
    "        for row in f_csv:\n",
    "            prices[row[0]] = float(row[1])\n",
    "    return prices"
   ]
  },
  {
   "cell_type": "markdown",
   "id": "391852e1",
   "metadata": {},
   "source": [
    "A good practice for doc strings is to write a short one sentence\n",
    "summary of what the function does.  If more information is needed,\n",
    "include a short example of usage along with a more detailed\n",
    "description of the arguments."
   ]
  },
  {
   "cell_type": "markdown",
   "id": "11711f15",
   "metadata": {},
   "source": [
    "### Type Annotations\n",
    "\n",
    "You can also add optional type hints to function definitions.\n",
    "\n",
    "```python\n",
    "def read_prices(filename: str) -> dict:\n",
    "    '''\n",
    "    Read prices from a CSV file of name,price data\n",
    "    '''\n",
    "    prices = {}\n",
    "    with open(filename) as f:\n",
    "        f_csv = csv.reader(f)\n",
    "        for row in f_csv:\n",
    "            prices[row[0]] = float(row[1])\n",
    "    return prices\n",
    "```\n",
    "\n",
    "The hints do nothing operationally. They are purely informational.\n",
    "However, they may be used by IDEs, code checkers, and other tools\n",
    "to do more.\n"
   ]
  },
  {
   "cell_type": "markdown",
   "id": "34d66e4c",
   "metadata": {},
   "source": [
    "### Exercise\n",
    "Create your own function that will accept three args (name,surname, True/False(i'm working or not))) and will return dict with keys: name ,surname, working."
   ]
  },
  {
   "cell_type": "code",
   "execution_count": 4,
   "id": "341f6949",
   "metadata": {},
   "outputs": [
    {
     "data": {
      "text/plain": [
       "{'name': 'Ktoś', 'surname': 'coś', 'T/F': True}"
      ]
     },
     "execution_count": 4,
     "metadata": {},
     "output_type": "execute_result"
    }
   ],
   "source": [
    "def own_function(name,surname, new):\n",
    "    dict = {\n",
    "        \"name\" : name,\n",
    "        \"surname\": surname,\n",
    "        \"T/F\" : new\n",
    "        \n",
    "    }\n",
    "    return dict\n",
    "\n",
    "own_function(\"Ktoś\",\"coś\",True)"
   ]
  },
  {
   "cell_type": "markdown",
   "id": "921885ed",
   "metadata": {},
   "source": [
    "Create function that will calculate value of speed of the car. where s = 120 km, t = 1h : Speed = s / t"
   ]
  },
  {
   "cell_type": "code",
   "execution_count": 7,
   "id": "281dd7ab",
   "metadata": {},
   "outputs": [
    {
     "data": {
      "text/plain": [
       "120.0"
      ]
     },
     "execution_count": 7,
     "metadata": {},
     "output_type": "execute_result"
    }
   ],
   "source": [
    "def speed(s,t):\n",
    "    return s/t\n",
    "\n",
    "speed(120,1)"
   ]
  },
  {
   "cell_type": "markdown",
   "id": "567b9a3a",
   "metadata": {},
   "source": [
    "Create a function that will print information whether the car is moving too fast or too slow in the city (50 km / h) based on given distance (s) and time(t)"
   ]
  },
  {
   "cell_type": "code",
   "execution_count": 9,
   "id": "415bac68",
   "metadata": {},
   "outputs": [
    {
     "data": {
      "text/plain": [
       "'Slow down'"
      ]
     },
     "execution_count": 9,
     "metadata": {},
     "output_type": "execute_result"
    }
   ],
   "source": [
    "def speed_limit(s,t,x):\n",
    "    \n",
    "    if x == \"city\" and s/t >= 50:\n",
    "        return \"Slow down\"\n",
    "    \n",
    "speed_limit(60,1,\"city\")"
   ]
  },
  {
   "cell_type": "markdown",
   "id": "8da80f7d",
   "metadata": {},
   "source": [
    "Create / copy a dict containing information about you, then create a function that will return information about you (string format) based on the given dict"
   ]
  },
  {
   "cell_type": "code",
   "execution_count": 17,
   "id": "0ab3d7d1",
   "metadata": {},
   "outputs": [
    {
     "name": "stdout",
     "output_type": "stream",
     "text": [
      "Patryk Kolodzie 32\n"
     ]
    }
   ],
   "source": [
    "my_dict = {\n",
    "        \"name\" : \"Patryk\",\n",
    "        \"surnane\" : \"Kolodzie\",\n",
    "        \"age\": 32\n",
    "}\n",
    "\n",
    "def dict_copy(my_dict):\n",
    "    return \" \".join([ str(i) for i in my_dict.values()])\n",
    "print(dict_copy(my_dict))"
   ]
  },
  {
   "cell_type": "code",
   "execution_count": 18,
   "id": "3119a792",
   "metadata": {},
   "outputs": [
    {
     "name": "stdout",
     "output_type": "stream",
     "text": [
      "x\n"
     ]
    }
   ],
   "source": [
    "try:\n",
    "    print(x)\n",
    "except:\n",
    "    print(\"x\")"
   ]
  },
  {
   "cell_type": "code",
   "execution_count": null,
   "id": "492a1979",
   "metadata": {},
   "outputs": [],
   "source": []
  }
 ],
 "metadata": {
  "kernelspec": {
   "display_name": "Python 3 (ipykernel)",
   "language": "python",
   "name": "python3"
  },
  "language_info": {
   "codemirror_mode": {
    "name": "ipython",
    "version": 3
   },
   "file_extension": ".py",
   "mimetype": "text/x-python",
   "name": "python",
   "nbconvert_exporter": "python",
   "pygments_lexer": "ipython3",
   "version": "3.9.12"
  }
 },
 "nbformat": 4,
 "nbformat_minor": 5
}
