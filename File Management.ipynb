{
 "cells": [
  {
   "cell_type": "markdown",
   "id": "4da2a362",
   "metadata": {},
   "source": [
    "# File Management\n",
    "\n",
    "Most programs need to read input from somewhere. This section discusses file access.\n",
    "\n",
    "### File Input and Output\n",
    "\n",
    "Open a file.\n",
    "\n",
    "```python\n",
    "f = open('foo.txt', 'rt')     # Open for reading (text)\n",
    "g = open('bar.txt', 'wt')     # Open for writing (text)\n",
    "```\n"
   ]
  },
  {
   "cell_type": "markdown",
   "id": "84bc6ae7",
   "metadata": {},
   "source": [
    "Read all of the data.\n",
    "\n",
    "```python\n",
    "data = f.read()\n",
    "\n",
    "# Read only up to 'maxbytes' bytes\n",
    "data = f.read([maxbytes])\n",
    "```\n",
    "\n",
    "Write some text.\n",
    "\n",
    "```python\n",
    "g.write('some text')\n",
    "```\n",
    "\n",
    "Close when you are done.\n",
    "\n",
    "```python\n",
    "f.close()\n",
    "g.close()\n",
    "```"
   ]
  },
  {
   "cell_type": "markdown",
   "id": "54234e0d",
   "metadata": {},
   "source": [
    "Files should be properly closed and it's an easy step to forget.\n",
    "Thus, the preferred approach is to use the `with` statement like this.\n",
    "\n",
    "```python\n",
    "with open(filename, 'rt') as file:\n",
    "    # Use the file `file`\n",
    "    ...\n",
    "    # No need to close explicitly\n",
    "...statements\n",
    "```\n",
    "\n",
    "This automatically closes the file when control leaves the indented code block."
   ]
  },
  {
   "cell_type": "markdown",
   "id": "80eacf1c",
   "metadata": {},
   "source": [
    "### Common Idioms for Reading File Data\n",
    "\n",
    "Read an entire file all at once as a string.\n",
    "\n",
    "```python\n",
    "with open('foo.txt', 'rt') as file:\n",
    "    data = file.read()\n",
    "    # `data` is a string with all the text in `foo.txt`\n",
    "```\n",
    "\n",
    "Read a file line-by-line by iterating.\n",
    "\n",
    "```python\n",
    "with open(filename, 'rt') as file:\n",
    "    for line in file:\n",
    "        # Process the line\n",
    "```\n",
    "\n",
    "### Common Idioms for Writing to a File\n",
    "\n",
    "Write string data.\n",
    "\n",
    "```python\n",
    "with open('outfile', 'wt') as out:\n",
    "    out.write('Hello World\\n')\n",
    "    ...\n",
    "```\n",
    "\n",
    "Redirect the print function.\n",
    "\n",
    "```python\n",
    "with open('outfile', 'wt') as out:\n",
    "    print('Hello World', file=out)\n",
    "    ...\n",
    "```"
   ]
  },
  {
   "cell_type": "markdown",
   "id": "17bc2ab2",
   "metadata": {},
   "source": [
    "## Exercises\n",
    "Create a function that will create a text file with the given name and write the given string to it."
   ]
  },
  {
   "cell_type": "code",
   "execution_count": 44,
   "id": "2a58706f",
   "metadata": {},
   "outputs": [],
   "source": [
    "with open(\"sample.txt\", \"w+\") as file:\n",
    "    for _ in range(5):\n",
    "        file.write(\"Hello it is me, Mario \\n\")"
   ]
  },
  {
   "cell_type": "markdown",
   "id": "78dfc407",
   "metadata": {},
   "source": [
    "Open file `data/sample.txt` and print all lines in loop"
   ]
  },
  {
   "cell_type": "code",
   "execution_count": 26,
   "id": "8c135096",
   "metadata": {},
   "outputs": [
    {
     "name": "stdout",
     "output_type": "stream",
     "text": [
      "Hello it is me, Mario \n",
      "\n",
      "Hello it is me, Mario \n",
      "\n",
      "Hello it is me, Mario \n",
      "\n",
      "Hello it is me, Mario \n",
      "\n",
      "Hello it is me, Mario \n",
      "\n"
     ]
    }
   ],
   "source": [
    "with open(\"sample.txt\", \"r+\") as file:\n",
    "    for line in file:\n",
    "        line.strip()\n",
    "        print(line)"
   ]
  },
  {
   "cell_type": "markdown",
   "id": "39db3379",
   "metadata": {},
   "source": [
    "In this task You have to open the same file, but this time print print line without vovels."
   ]
  },
  {
   "cell_type": "code",
   "execution_count": 30,
   "id": "507e145c",
   "metadata": {},
   "outputs": [
    {
     "name": "stdout",
     "output_type": "stream",
     "text": [
      "Hll t s m, Mr \n",
      "\n",
      "Hll t s m, Mr \n",
      "\n",
      "Hll t s m, Mr \n",
      "\n",
      "Hll t s m, Mr \n",
      "\n",
      "Hll t s m, Mr \n",
      "\n"
     ]
    }
   ],
   "source": [
    "with open(\"sample.txt\", \"r+\") as file:\n",
    "    vowels  = \"aeiouAEIOU\"\n",
    "    for line in file:\n",
    "        for i in vowels:\n",
    "            line = line.replace(i,\"\")\n",
    "        print(line)\n",
    "      "
   ]
  },
  {
   "cell_type": "markdown",
   "id": "ac5a85df",
   "metadata": {},
   "source": [
    "This time try to update the given file with loaded but text will be in uppercase."
   ]
  },
  {
   "cell_type": "code",
   "execution_count": 46,
   "id": "4e078db7",
   "metadata": {},
   "outputs": [
    {
     "ename": "UnsupportedOperation",
     "evalue": "not readable",
     "output_type": "error",
     "traceback": [
      "\u001b[1;31m---------------------------------------------------------------------------\u001b[0m",
      "\u001b[1;31mUnsupportedOperation\u001b[0m                      Traceback (most recent call last)",
      "Input \u001b[1;32mIn [46]\u001b[0m, in \u001b[0;36m<cell line: 2>\u001b[1;34m()\u001b[0m\n\u001b[0;32m      1\u001b[0m x \u001b[38;5;241m=\u001b[39m[]\n\u001b[0;32m      2\u001b[0m \u001b[38;5;28;01mwith\u001b[39;00m \u001b[38;5;28mopen\u001b[39m(\u001b[38;5;124m\"\u001b[39m\u001b[38;5;124msample.txt\u001b[39m\u001b[38;5;124m\"\u001b[39m, \u001b[38;5;124m\"\u001b[39m\u001b[38;5;124mw\u001b[39m\u001b[38;5;124m\"\u001b[39m) \u001b[38;5;28;01mas\u001b[39;00m file:\n\u001b[1;32m----> 4\u001b[0m     x \u001b[38;5;241m=\u001b[39m [line\u001b[38;5;241m.\u001b[39mupper()\u001b[38;5;241m.\u001b[39mstrip() \u001b[38;5;28;01mfor\u001b[39;00m line \u001b[38;5;129;01min\u001b[39;00m file]\n\u001b[0;32m      5\u001b[0m     \u001b[38;5;28;01mfor\u001b[39;00m i \u001b[38;5;129;01min\u001b[39;00m x:\n\u001b[0;32m      6\u001b[0m         file\u001b[38;5;241m.\u001b[39mwrite(\u001b[38;5;124mf\u001b[39m\u001b[38;5;124m\"\u001b[39m\u001b[38;5;132;01m{\u001b[39;00mi\u001b[38;5;132;01m}\u001b[39;00m\u001b[38;5;130;01m\\n\u001b[39;00m\u001b[38;5;124m\"\u001b[39m)\n",
      "Input \u001b[1;32mIn [46]\u001b[0m, in \u001b[0;36m<listcomp>\u001b[1;34m(.0)\u001b[0m\n\u001b[0;32m      1\u001b[0m x \u001b[38;5;241m=\u001b[39m[]\n\u001b[0;32m      2\u001b[0m \u001b[38;5;28;01mwith\u001b[39;00m \u001b[38;5;28mopen\u001b[39m(\u001b[38;5;124m\"\u001b[39m\u001b[38;5;124msample.txt\u001b[39m\u001b[38;5;124m\"\u001b[39m, \u001b[38;5;124m\"\u001b[39m\u001b[38;5;124mw\u001b[39m\u001b[38;5;124m\"\u001b[39m) \u001b[38;5;28;01mas\u001b[39;00m file:\n\u001b[1;32m----> 4\u001b[0m     x \u001b[38;5;241m=\u001b[39m [line\u001b[38;5;241m.\u001b[39mupper()\u001b[38;5;241m.\u001b[39mstrip() \u001b[38;5;28;01mfor\u001b[39;00m line \u001b[38;5;129;01min\u001b[39;00m file]\n\u001b[0;32m      5\u001b[0m     \u001b[38;5;28;01mfor\u001b[39;00m i \u001b[38;5;129;01min\u001b[39;00m x:\n\u001b[0;32m      6\u001b[0m         file\u001b[38;5;241m.\u001b[39mwrite(\u001b[38;5;124mf\u001b[39m\u001b[38;5;124m\"\u001b[39m\u001b[38;5;132;01m{\u001b[39;00mi\u001b[38;5;132;01m}\u001b[39;00m\u001b[38;5;130;01m\\n\u001b[39;00m\u001b[38;5;124m\"\u001b[39m)\n",
      "\u001b[1;31mUnsupportedOperation\u001b[0m: not readable"
     ]
    }
   ],
   "source": [
    "x =[]\n",
    "with open(\"sample.txt\", \"w\") as file:\n",
    "    \n",
    "    x = [line.upper().strip() for line in file]\n",
    "    for i in x:\n",
    "        file.write(f\"{i}\\n\")\n"
   ]
  },
  {
   "cell_type": "code",
   "execution_count": null,
   "id": "15eb2aca",
   "metadata": {},
   "outputs": [],
   "source": []
  }
 ],
 "metadata": {
  "kernelspec": {
   "display_name": "Python 3 (ipykernel)",
   "language": "python",
   "name": "python3"
  },
  "language_info": {
   "codemirror_mode": {
    "name": "ipython",
    "version": 3
   },
   "file_extension": ".py",
   "mimetype": "text/x-python",
   "name": "python",
   "nbconvert_exporter": "python",
   "pygments_lexer": "ipython3",
   "version": "3.9.12"
  }
 },
 "nbformat": 4,
 "nbformat_minor": 5
}
